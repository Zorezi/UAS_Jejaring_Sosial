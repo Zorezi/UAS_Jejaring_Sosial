{
 "cells": [
  {
   "cell_type": "code",
   "execution_count": null,
   "metadata": {},
   "outputs": [
    {
     "name": "stdout",
     "output_type": "stream",
     "text": [
      "Name: \n",
      "Type: DiGraph\n",
      "Number of nodes: 6861\n",
      "Number of edges: 92023\n",
      "Average in degree:  13.4125\n",
      "Average out degree:  13.4125\n"
     ]
    }
   ],
   "source": [
    "import networkx as nx \n",
    "import matplotlib.pyplot as plt \n",
    "import pandas as pd\n",
    "\n",
    "g=nx.read_edgelist('Wiki-Vote.txt',create_using=nx.DiGraph(),nodetype=int)\n",
    "sp=nx.spring_layout(g)\n",
    "print (nx.info(g))\n",
    "\n",
    "nx.draw_networkx(g,pos=sp,with_labels=False,node_size=35)\n",
    "plt.show()"
   ]
  },
  {
   "cell_type": "code",
   "execution_count": null,
   "metadata": {},
   "outputs": [],
   "source": []
  }
 ],
 "metadata": {
  "kernelspec": {
   "display_name": "Python 3",
   "language": "python",
   "name": "python3"
  },
  "language_info": {
   "codemirror_mode": {
    "name": "ipython",
    "version": 3
   },
   "file_extension": ".py",
   "mimetype": "text/x-python",
   "name": "python",
   "nbconvert_exporter": "python",
   "pygments_lexer": "ipython3",
   "version": "3.6.6"
  }
 },
 "nbformat": 4,
 "nbformat_minor": 2
}
